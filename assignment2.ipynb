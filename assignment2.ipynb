{
 "cells": [
  {
   "cell_type": "markdown",
   "id": "7edd648f-21a1-429c-b8aa-bcb60948c84d",
   "metadata": {},
   "source": [
    "1 question\n",
    "Ans)comments can be done in two ways by # and '''   '''\n",
    "#used for single line comments\n",
    "''' ''' used for multiline coments and multiline is also known as docstings "
   ]
  },
  {
   "cell_type": "code",
   "execution_count": 1,
   "id": "35511b0a-c049-4308-aa46-06046757a5e1",
   "metadata": {},
   "outputs": [
    {
     "data": {
      "text/plain": [
       "' this is \\nmultiline comment'"
      ]
     },
     "execution_count": 1,
     "metadata": {},
     "output_type": "execute_result"
    }
   ],
   "source": [
    "#this is single line comment\n",
    "''' this is \n",
    "multiline comment'''"
   ]
  },
  {
   "cell_type": "markdown",
   "id": "aa704d00-31f3-4813-af49-1b6b7918cabb",
   "metadata": {},
   "source": [
    "2 question\n",
    "variables are used to store the data in the memory with a name and easy to access the data\n",
    "Rules to create a variable:\n",
    "1)variable must start with alphabets and _ only\n",
    "2)smaller case and upper case has different meaning\n",
    "To assign value to a variable we use = operator"
   ]
  },
  {
   "cell_type": "code",
   "execution_count": 5,
   "id": "764aa8ee-c241-403f-ad64-c030acb3169a",
   "metadata": {},
   "outputs": [
    {
     "data": {
      "text/plain": [
       "'this a variable declaration'"
      ]
     },
     "execution_count": 5,
     "metadata": {},
     "output_type": "execute_result"
    }
   ],
   "source": [
    "variable='this a variable declaration'\n",
    "variable"
   ]
  },
  {
   "cell_type": "markdown",
   "id": "4b86ed16-1b74-4677-bcad-984170103b42",
   "metadata": {},
   "source": [
    "3 question\n",
    "to convert one Type of data into another we use typecasting"
   ]
  },
  {
   "cell_type": "code",
   "execution_count": 8,
   "id": "d6b3bb06-2b71-498f-b720-02772f8d2f92",
   "metadata": {},
   "outputs": [
    {
     "name": "stdout",
     "output_type": "stream",
     "text": [
      "<class 'int'>\n",
      "<class 'str'>\n"
     ]
    }
   ],
   "source": [
    "a=52\n",
    "print(type(a))\n",
    "a=str(a)\n",
    "print(type(a))"
   ]
  },
  {
   "cell_type": "markdown",
   "id": "2bf2daa9-ddcd-46df-a135-0c51f06702e1",
   "metadata": {},
   "source": [
    "4 question\n",
    "to write a script in python we use markdown option "
   ]
  },
  {
   "cell_type": "markdown",
   "id": "fa1c821f-886a-4d9a-a758-d65bc8651996",
   "metadata": {},
   "source": [
    "5 question\n"
   ]
  },
  {
   "cell_type": "code",
   "execution_count": 10,
   "id": "2e45e6e4-d13c-4cab-94ec-1eba1d0a4abd",
   "metadata": {},
   "outputs": [
    {
     "data": {
      "text/plain": [
       "[2, 3]"
      ]
     },
     "execution_count": 10,
     "metadata": {},
     "output_type": "execute_result"
    }
   ],
   "source": [
    "my_list=[1,2,3,4]\n",
    "sub_list=my_list[1:3]\n",
    "sub_list"
   ]
  },
  {
   "cell_type": "markdown",
   "id": "ca40e40d-f737-4e0b-aebe-5898d8b766a8",
   "metadata": {},
   "source": [
    "6 question\n",
    "Ans)a complex number is number x+ij where x=real number and ib=imaginary number"
   ]
  },
  {
   "cell_type": "code",
   "execution_count": 15,
   "id": "63f28ba1-f340-489d-a271-f7e2ef24914a",
   "metadata": {},
   "outputs": [
    {
     "data": {
      "text/plain": [
       "(2+3j)"
      ]
     },
     "execution_count": 15,
     "metadata": {},
     "output_type": "execute_result"
    }
   ],
   "source": [
    "img_num=2+3j\n",
    "img_num"
   ]
  },
  {
   "cell_type": "markdown",
   "id": "4b20b5cb-f9fe-4571-84fd-87b03cbd4d75",
   "metadata": {},
   "source": [
    "7 Question"
   ]
  },
  {
   "cell_type": "code",
   "execution_count": 17,
   "id": "39155a2f-7bda-43c7-89c2-66c101bae54f",
   "metadata": {},
   "outputs": [
    {
     "data": {
      "text/plain": [
       "25"
      ]
     },
     "execution_count": 17,
     "metadata": {},
     "output_type": "execute_result"
    }
   ],
   "source": [
    "named_age=25\n",
    "named_age"
   ]
  },
  {
   "cell_type": "markdown",
   "id": "85f5c66c-0c61-4728-ab4a-35168e65d8a7",
   "metadata": {},
   "source": [
    "8 question"
   ]
  },
  {
   "cell_type": "code",
   "execution_count": 19,
   "id": "619fab30-ff2b-4fc2-9349-b346131be639",
   "metadata": {},
   "outputs": [
    {
     "data": {
      "text/plain": [
       "float"
      ]
     },
     "execution_count": 19,
     "metadata": {},
     "output_type": "execute_result"
    }
   ],
   "source": [
    "price=9.99\n",
    "type(price)"
   ]
  },
  {
   "cell_type": "markdown",
   "id": "7c5a087d-f0c4-4277-97f1-705b200b5f65",
   "metadata": {},
   "source": [
    "9 question"
   ]
  },
  {
   "cell_type": "code",
   "execution_count": 20,
   "id": "945bb65e-c352-4454-b6b6-fef5845fbda3",
   "metadata": {},
   "outputs": [
    {
     "name": "stdout",
     "output_type": "stream",
     "text": [
      "my name is gayatrimantena\n"
     ]
    }
   ],
   "source": [
    "name=\"gayatrimantena\"\n",
    "print(f\"my name is {name}\")"
   ]
  },
  {
   "cell_type": "markdown",
   "id": "cf0767a0-74cd-4f47-8bab-0e2949ceab9e",
   "metadata": {},
   "source": [
    "10 question"
   ]
  },
  {
   "cell_type": "code",
   "execution_count": 21,
   "id": "76b62e66-8b28-4b24-9105-22f4d89caf04",
   "metadata": {},
   "outputs": [
    {
     "data": {
      "text/plain": [
       "'world'"
      ]
     },
     "execution_count": 21,
     "metadata": {},
     "output_type": "execute_result"
    }
   ],
   "source": [
    "string=\"hello,world!\"\n",
    "string[6:-1]"
   ]
  },
  {
   "cell_type": "markdown",
   "id": "b9618d2c-8ac5-49fa-92c2-7c7277020cf4",
   "metadata": {},
   "source": [
    "11 question"
   ]
  },
  {
   "cell_type": "code",
   "execution_count": 25,
   "id": "4be75b35-019d-4fdf-a7d7-83021b27ca4b",
   "metadata": {},
   "outputs": [
    {
     "name": "stdout",
     "output_type": "stream",
     "text": [
      "current student\n"
     ]
    }
   ],
   "source": [
    "is_student=True\n",
    "if is_student==True:\n",
    "    print(\"current student\")\n",
    "else:\n",
    "    print(\"Not a student\")"
   ]
  },
  {
   "cell_type": "code",
   "execution_count": null,
   "id": "64125c69-b9bf-4f74-a811-6d998f3becc4",
   "metadata": {},
   "outputs": [],
   "source": []
  }
 ],
 "metadata": {
  "kernelspec": {
   "display_name": "Python 3 (ipykernel)",
   "language": "python",
   "name": "python3"
  },
  "language_info": {
   "codemirror_mode": {
    "name": "ipython",
    "version": 3
   },
   "file_extension": ".py",
   "mimetype": "text/x-python",
   "name": "python",
   "nbconvert_exporter": "python",
   "pygments_lexer": "ipython3",
   "version": "3.10.8"
  }
 },
 "nbformat": 4,
 "nbformat_minor": 5
}
