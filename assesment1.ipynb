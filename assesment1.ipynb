{
 "cells": [
  {
   "cell_type": "code",
   "execution_count": 1,
   "id": "81861165-13f7-4d78-9910-09222375732a",
   "metadata": {},
   "outputs": [
    {
     "data": {
      "text/plain": [
       "str"
      ]
     },
     "execution_count": 1,
     "metadata": {},
     "output_type": "execute_result"
    }
   ],
   "source": [
    "#variable for string'\n",
    "x=\"this variable is a stiring\"\n",
    "type(x)"
   ]
  },
  {
   "cell_type": "code",
   "execution_count": 2,
   "id": "d53abe6c-0f69-4899-ae6a-1ce0ee9f6037",
   "metadata": {},
   "outputs": [
    {
     "data": {
      "text/plain": [
       "list"
      ]
     },
     "execution_count": 2,
     "metadata": {},
     "output_type": "execute_result"
    }
   ],
   "source": [
    "x=[1,22,'a']\n",
    "type(x)"
   ]
  },
  {
   "cell_type": "code",
   "execution_count": 3,
   "id": "b7752bdc-07ab-4abe-908f-7fc3e7b150f3",
   "metadata": {},
   "outputs": [
    {
     "data": {
      "text/plain": [
       "float"
      ]
     },
     "execution_count": 3,
     "metadata": {},
     "output_type": "execute_result"
    }
   ],
   "source": [
    "x=2.5\n",
    "type(x)"
   ]
  },
  {
   "cell_type": "code",
   "execution_count": 4,
   "id": "897b59ef-97f4-4166-b4ac-0e4ae554e326",
   "metadata": {},
   "outputs": [
    {
     "data": {
      "text/plain": [
       "tuple"
      ]
     },
     "execution_count": 4,
     "metadata": {},
     "output_type": "execute_result"
    }
   ],
   "source": [
    "x=(1,2,3,4)\n",
    "type(x)"
   ]
  },
  {
   "cell_type": "code",
   "execution_count": 5,
   "id": "a6316040-0c09-42ab-94d3-78f2227b78a8",
   "metadata": {},
   "outputs": [
    {
     "data": {
      "text/plain": [
       "str"
      ]
     },
     "execution_count": 5,
     "metadata": {},
     "output_type": "execute_result"
    }
   ],
   "source": [
    "#2 question\n",
    "var=''\n",
    "type(var)"
   ]
  },
  {
   "cell_type": "code",
   "execution_count": 6,
   "id": "6ea6c68a-f11d-4e17-ac39-bb236dd61455",
   "metadata": {},
   "outputs": [
    {
     "data": {
      "text/plain": [
       "str"
      ]
     },
     "execution_count": 6,
     "metadata": {},
     "output_type": "execute_result"
    }
   ],
   "source": [
    "var2 = '[ DS , ML , Python]'\n",
    "type(var2)"
   ]
  },
  {
   "cell_type": "code",
   "execution_count": 7,
   "id": "b5989c71-ce2d-4c6b-9004-477903c9c24f",
   "metadata": {},
   "outputs": [
    {
     "data": {
      "text/plain": [
       "list"
      ]
     },
     "execution_count": 7,
     "metadata": {},
     "output_type": "execute_result"
    }
   ],
   "source": [
    "var3 = [ 'DS' , 'ML' , 'Python' ]\n",
    "type(var3)"
   ]
  },
  {
   "cell_type": "code",
   "execution_count": 8,
   "id": "7d8304a9-9db4-41cb-b466-3f5675060907",
   "metadata": {},
   "outputs": [
    {
     "data": {
      "text/plain": [
       "float"
      ]
     },
     "execution_count": 8,
     "metadata": {},
     "output_type": "execute_result"
    }
   ],
   "source": [
    "var4 = 1.\n",
    "type(var4)"
   ]
  },
  {
   "cell_type": "code",
   "execution_count": 9,
   "id": "421f4ae2-5957-482d-8111-673769a6a0d8",
   "metadata": {},
   "outputs": [],
   "source": [
    "#3 question"
   ]
  },
  {
   "cell_type": "code",
   "execution_count": 10,
   "id": "e4ec6571-b0e8-46d8-95c2-1ef5f4a31a1d",
   "metadata": {},
   "outputs": [
    {
     "name": "stdout",
     "output_type": "stream",
     "text": [
      "2.0\n",
      "0\n",
      "2\n",
      "36\n"
     ]
    }
   ],
   "source": [
    "print(6/3)#used for divide a number\n",
    "print(6%3)# to get reminder\n",
    "print(6//3)#floar division\n",
    "print(6**2)#for squaing a number"
   ]
  },
  {
   "cell_type": "code",
   "execution_count": 11,
   "id": "ea402ce3-5f54-4489-b2b1-b0d468fd2fb7",
   "metadata": {},
   "outputs": [
    {
     "name": "stdout",
     "output_type": "stream",
     "text": [
      "1 <class 'int'>\n",
      "3 <class 'int'>\n",
      "l <class 'str'>\n",
      "a <class 'str'>\n",
      "5 <class 'int'>\n",
      "6 <class 'int'>\n",
      "7 <class 'int'>\n",
      "o <class 'str'>\n",
      "y <class 'str'>\n",
      "5 <class 'int'>\n"
     ]
    }
   ],
   "source": [
    "# 4  question\n",
    "x=[1,3,'l','a',5,6,7,'o','y',5]\n",
    "for i in x:\n",
    "    print(i,type(i))"
   ]
  },
  {
   "cell_type": "code",
   "execution_count": 12,
   "id": "a3882ff5-9253-4fa3-8766-2b84bb33ac2c",
   "metadata": {},
   "outputs": [
    {
     "name": "stdin",
     "output_type": "stream",
     "text": [
      " 6\n",
      " 3\n"
     ]
    },
    {
     "name": "stdout",
     "output_type": "stream",
     "text": [
      "2\n"
     ]
    }
   ],
   "source": [
    "#5 question\n",
    "x=int(input())\n",
    "y=int(input())\n",
    "i=0\n",
    "if x%y==0:\n",
    "    while i<=1:\n",
    "        print(x//y)\n",
    "        break"
   ]
  },
  {
   "cell_type": "code",
   "execution_count": 17,
   "id": "61f162fd-86fa-4c35-a8fc-fd649998e556",
   "metadata": {},
   "outputs": [
    {
     "name": "stdout",
     "output_type": "stream",
     "text": [
      "0 divisible by 3\n",
      "1 not divisible by 3\n",
      "2 not divisible by 3\n",
      "3 divisible by 3\n",
      "4 not divisible by 3\n",
      "5 not divisible by 3\n",
      "6 divisible by 3\n",
      "7 not divisible by 3\n",
      "8 not divisible by 3\n",
      "9 divisible by 3\n",
      "10 not divisible by 3\n",
      "11 not divisible by 3\n",
      "12 divisible by 3\n",
      "13 not divisible by 3\n",
      "14 not divisible by 3\n",
      "15 divisible by 3\n",
      "16 not divisible by 3\n",
      "17 not divisible by 3\n",
      "18 divisible by 3\n",
      "19 not divisible by 3\n",
      "20 not divisible by 3\n",
      "21 divisible by 3\n",
      "22 not divisible by 3\n",
      "23 not divisible by 3\n",
      "24 divisible by 3\n"
     ]
    }
   ],
   "source": [
    "#6 question\n",
    "list1=[]\n",
    "for i in range(25):\n",
    "    list1.append(i)\n",
    "    if i%3==0:\n",
    "        print(i,\"divisible by 3\")\n",
    "    else:\n",
    "        print(i,\"not divisible by 3\")"
   ]
  },
  {
   "cell_type": "code",
   "execution_count": 18,
   "id": "17907026-dcbd-4c41-899a-dde1789db3f9",
   "metadata": {},
   "outputs": [
    {
     "data": {
      "text/plain": [
       "'r'"
      ]
     },
     "execution_count": 18,
     "metadata": {},
     "output_type": "execute_result"
    }
   ],
   "source": [
    "#immutable are strings,tuples\n",
    "#which means one's you define u can not change it\n",
    "x='string '\n",
    "x[2]"
   ]
  },
  {
   "cell_type": "code",
   "execution_count": 19,
   "id": "8ddcb584-6c2a-41c1-9aef-cd2d05a9845f",
   "metadata": {},
   "outputs": [
    {
     "ename": "TypeError",
     "evalue": "'str' object does not support item assignment",
     "output_type": "error",
     "traceback": [
      "\u001b[0;31m---------------------------------------------------------------------------\u001b[0m",
      "\u001b[0;31mTypeError\u001b[0m                                 Traceback (most recent call last)",
      "Cell \u001b[0;32mIn[19], line 1\u001b[0m\n\u001b[0;32m----> 1\u001b[0m \u001b[43mx\u001b[49m\u001b[43m[\u001b[49m\u001b[38;5;241;43m2\u001b[39;49m\u001b[43m]\u001b[49m\u001b[38;5;241m=\u001b[39m\u001b[38;5;124m'\u001b[39m\u001b[38;5;124ml\u001b[39m\u001b[38;5;124m'\u001b[39m\n",
      "\u001b[0;31mTypeError\u001b[0m: 'str' object does not support item assignment"
     ]
    }
   ],
   "source": [
    "x[2]='l'"
   ]
  },
  {
   "cell_type": "code",
   "execution_count": 21,
   "id": "5c9eb438-c8e1-4a3e-885f-f82bb47b0be7",
   "metadata": {},
   "outputs": [
    {
     "data": {
      "text/plain": [
       "2"
      ]
     },
     "execution_count": 21,
     "metadata": {},
     "output_type": "execute_result"
    }
   ],
   "source": [
    "d=(1,2,3)\n",
    "d[1]"
   ]
  },
  {
   "cell_type": "code",
   "execution_count": 22,
   "id": "5fa02d5f-a7f3-4771-ab3f-f913b5b3728b",
   "metadata": {},
   "outputs": [
    {
     "ename": "TypeError",
     "evalue": "'tuple' object does not support item assignment",
     "output_type": "error",
     "traceback": [
      "\u001b[0;31m---------------------------------------------------------------------------\u001b[0m",
      "\u001b[0;31mTypeError\u001b[0m                                 Traceback (most recent call last)",
      "Cell \u001b[0;32mIn[22], line 1\u001b[0m\n\u001b[0;32m----> 1\u001b[0m \u001b[43md\u001b[49m\u001b[43m[\u001b[49m\u001b[38;5;241;43m1\u001b[39;49m\u001b[43m]\u001b[49m\u001b[38;5;241m=\u001b[39m\u001b[38;5;241m6\u001b[39m\n",
      "\u001b[0;31mTypeError\u001b[0m: 'tuple' object does not support item assignment"
     ]
    }
   ],
   "source": [
    "d[1]=6"
   ]
  },
  {
   "cell_type": "code",
   "execution_count": 23,
   "id": "477e9b2f-c61b-49d0-a1cf-cf35204c6df7",
   "metadata": {},
   "outputs": [
    {
     "data": {
      "text/plain": [
       "'l'"
      ]
     },
     "execution_count": 23,
     "metadata": {},
     "output_type": "execute_result"
    }
   ],
   "source": [
    "#mutable are lists,dictinorys\n",
    "l=[1,2,3,'l']\n",
    "l[-1]"
   ]
  },
  {
   "cell_type": "code",
   "execution_count": 24,
   "id": "f1d5eb43-066a-48e5-bfad-e2f25991f869",
   "metadata": {},
   "outputs": [],
   "source": [
    "l[-1]=3"
   ]
  },
  {
   "cell_type": "code",
   "execution_count": 25,
   "id": "a1c21e60-6749-47b4-aa24-4c3e69639f79",
   "metadata": {},
   "outputs": [
    {
     "data": {
      "text/plain": [
       "[1, 2, 3, 3]"
      ]
     },
     "execution_count": 25,
     "metadata": {},
     "output_type": "execute_result"
    }
   ],
   "source": [
    "l"
   ]
  },
  {
   "cell_type": "code",
   "execution_count": 26,
   "id": "d77d2c4f-b87e-40c9-a4f3-2c022a041587",
   "metadata": {},
   "outputs": [
    {
     "data": {
      "text/plain": [
       "'gayatri'"
      ]
     },
     "execution_count": 26,
     "metadata": {},
     "output_type": "execute_result"
    }
   ],
   "source": [
    "dict={'name':'gayatri',\n",
    "      'age':20}\n",
    "dict['name']"
   ]
  },
  {
   "cell_type": "code",
   "execution_count": 27,
   "id": "635032a1-896c-4311-a925-e5917fc0ed37",
   "metadata": {},
   "outputs": [],
   "source": [
    "dict['name']='varshith'"
   ]
  },
  {
   "cell_type": "code",
   "execution_count": 28,
   "id": "6278b522-962f-42ec-a2c5-483bc90e4115",
   "metadata": {},
   "outputs": [
    {
     "data": {
      "text/plain": [
       "{'name': 'varshith', 'age': 20}"
      ]
     },
     "execution_count": 28,
     "metadata": {},
     "output_type": "execute_result"
    }
   ],
   "source": [
    "dict"
   ]
  },
  {
   "cell_type": "code",
   "execution_count": null,
   "id": "01233945-05f2-4f38-a93a-af2ce608cf1a",
   "metadata": {},
   "outputs": [],
   "source": []
  }
 ],
 "metadata": {
  "kernelspec": {
   "display_name": "Python 3 (ipykernel)",
   "language": "python",
   "name": "python3"
  },
  "language_info": {
   "codemirror_mode": {
    "name": "ipython",
    "version": 3
   },
   "file_extension": ".py",
   "mimetype": "text/x-python",
   "name": "python",
   "nbconvert_exporter": "python",
   "pygments_lexer": "ipython3",
   "version": "3.10.8"
  }
 },
 "nbformat": 4,
 "nbformat_minor": 5
}
