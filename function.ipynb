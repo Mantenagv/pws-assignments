{
 "cells": [
  {
   "cell_type": "markdown",
   "id": "d106736a-8b29-4baa-a36e-de3f4e1c7194",
   "metadata": {},
   "source": [
    "1 question\n",
    "ans)def keyword is used to create a user function"
   ]
  },
  {
   "cell_type": "code",
   "execution_count": 37,
   "id": "c465a6a8-e843-4f75-ba49-46c032d1bd47",
   "metadata": {},
   "outputs": [],
   "source": [
    "def fun1():\n",
    "    l=[]\n",
    "    for i in range(1,26):\n",
    "        if i%2!=0:\n",
    "            l.append(i)\n",
    "    return l"
   ]
  },
  {
   "cell_type": "code",
   "execution_count": 38,
   "id": "27309184-877c-4751-bfc3-42d728d94184",
   "metadata": {},
   "outputs": [
    {
     "data": {
      "text/plain": [
       "[1, 3, 5, 7, 9, 11, 13, 15, 17, 19, 21, 23, 25]"
      ]
     },
     "execution_count": 38,
     "metadata": {},
     "output_type": "execute_result"
    }
   ],
   "source": [
    "fun1()"
   ]
  },
  {
   "cell_type": "markdown",
   "id": "e408a4aa-4e23-43a8-935a-2ff4e3ada820",
   "metadata": {},
   "source": [
    "2 question\n",
    "ans)*args is used for take any no of input arguments for a function where **kargs is uesd for creating a dictionary by tking key value pairs"
   ]
  },
  {
   "cell_type": "code",
   "execution_count": 39,
   "id": "a3841e0f-5fe7-412a-8d2b-1d65abbdf777",
   "metadata": {},
   "outputs": [
    {
     "name": "stdout",
     "output_type": "stream",
     "text": [
      "(1, 23, 'p', [1, 2, 3])\n"
     ]
    }
   ],
   "source": [
    "def fun2(*args):\n",
    "    print(args)\n",
    "fun2(1,23,'p',[1,2,3])"
   ]
  },
  {
   "cell_type": "code",
   "execution_count": 40,
   "id": "91841641-26b3-47a4-ba99-92cfd6b34959",
   "metadata": {},
   "outputs": [
    {
     "name": "stdout",
     "output_type": "stream",
     "text": [
      "{'a': [1, 23, 2], 'b': 'p'}\n"
     ]
    }
   ],
   "source": [
    "def fun3(**kargs):\n",
    "    print(kargs)\n",
    "fun3(a=[1,23,2],b=\"p\")"
   ]
  },
  {
   "cell_type": "markdown",
   "id": "953c5e32-0f87-413a-a36f-0091882ce2c0",
   "metadata": {},
   "source": [
    "3question\n",
    "ans) an iterator is used to iterate based on the condition example forloop"
   ]
  },
  {
   "cell_type": "code",
   "execution_count": 41,
   "id": "5bce7263-e0d3-447b-a5a0-1d2ae5213c4e",
   "metadata": {},
   "outputs": [
    {
     "name": "stdout",
     "output_type": "stream",
     "text": [
      "2\n",
      "4\n",
      "6\n",
      "8\n",
      "10\n"
     ]
    }
   ],
   "source": [
    "l=[2, 4, 6, 8, 10, 12, 14, 16,\n",
    "18, 20]\n",
    "def fun():\n",
    "     for i in range(5):\n",
    "             print(l[i])\n",
    "fun()"
   ]
  },
  {
   "cell_type": "markdown",
   "id": "e4526943-203d-4296-8254-2f2d1091b4f1",
   "metadata": {},
   "source": [
    "4 question\n",
    "ans)genator function example is range function,yeild is to return a value or object"
   ]
  },
  {
   "cell_type": "code",
   "execution_count": 42,
   "id": "25ad356b-117a-4f87-9705-4bc62176369b",
   "metadata": {},
   "outputs": [
    {
     "name": "stdout",
     "output_type": "stream",
     "text": [
      "0\n",
      "1\n",
      "2\n",
      "3\n",
      "4\n"
     ]
    }
   ],
   "source": [
    "def fun4():\n",
    "    for i in range(5):\n",
    "        print(i)\n",
    "fun4()"
   ]
  },
  {
   "cell_type": "markdown",
   "id": "c0fcf767-e357-465a-a248-bdf3efe64462",
   "metadata": {},
   "source": [
    "5)question "
   ]
  },
  {
   "cell_type": "code",
   "execution_count": null,
   "id": "cc0ea687-8bb3-46f7-8d6b-d06f0138c982",
   "metadata": {},
   "outputs": [],
   "source": []
  },
  {
   "cell_type": "code",
   "execution_count": 44,
   "id": "a5db8c8f-44c8-4c51-9783-4a5a40bf9b39",
   "metadata": {},
   "outputs": [
    {
     "name": "stdin",
     "output_type": "stream",
     "text": [
      "Enter the range:  1000\n"
     ]
    },
    {
     "name": "stdout",
     "output_type": "stream",
     "text": [
      "2 3 5 7 11 13 17 19 23 29 31 37 41 43 47 53 59 61 67 71 73 79 83 89 97 101 103 107 109 113 127 131 137 139 149 151 157 163 167 173 179 181 191 193 197 199 211 223 227 229 233 239 241 251 257 263 269 271 277 281 283 293 307 311 313 317 331 337 347 349 353 359 367 373 379 383 389 397 401 409 419 421 431 433 439 443 449 457 461 463 467 479 487 491 499 503 509 521 523 541 547 557 563 569 571 577 587 593 599 601 607 613 617 619 631 641 643 647 653 659 661 673 677 683 691 701 709 719 727 733 739 743 751 757 761 769 773 787 797 809 811 821 823 827 829 839 853 857 859 863 877 881 883 887 907 911 919 929 937 941 947 953 967 971 977 983 991 997 "
     ]
    }
   ],
   "source": [
    "def Prime_seq(num):\n",
    "  \n",
    "    for i in range(2,num):\n",
    "        if prime(i) == True:\n",
    "            print(i,end = \" \")\n",
    "            l.append(i)\n",
    "        else:\n",
    "            pass\n",
    "l=[]\n",
    "num = int(input(\"Enter the range: \"))\n",
    "prime = lambda num: all( num%x != 0 for x in range(2, int(num**.5)+1) )\n",
    "Prime_seq(num)"
   ]
  },
  {
   "cell_type": "code",
   "execution_count": 46,
   "id": "9d6fcf53-dc59-4e8c-aeca-472331bb789a",
   "metadata": {},
   "outputs": [],
   "source": [
    "l_iter = iter(l)"
   ]
  },
  {
   "cell_type": "code",
   "execution_count": 48,
   "id": "ffabc2dc-cc9c-4d43-a15c-1c2e59c70eb1",
   "metadata": {},
   "outputs": [
    {
     "name": "stdout",
     "output_type": "stream",
     "text": [
      "2\n",
      "3\n",
      "5\n",
      "7\n",
      "11\n",
      "13\n",
      "17\n",
      "19\n",
      "23\n",
      "29\n",
      "31\n",
      "37\n",
      "41\n",
      "43\n",
      "47\n",
      "53\n",
      "59\n",
      "61\n",
      "67\n",
      "71\n"
     ]
    }
   ],
   "source": [
    "for i in range(20):\n",
    "    print(next(l_iter))"
   ]
  },
  {
   "cell_type": "code",
   "execution_count": null,
   "id": "1be172ee-cc15-4f9a-879a-cdaa3a778338",
   "metadata": {},
   "outputs": [],
   "source": []
  }
 ],
 "metadata": {
  "kernelspec": {
   "display_name": "Python 3 (ipykernel)",
   "language": "python",
   "name": "python3"
  },
  "language_info": {
   "codemirror_mode": {
    "name": "ipython",
    "version": 3
   },
   "file_extension": ".py",
   "mimetype": "text/x-python",
   "name": "python",
   "nbconvert_exporter": "python",
   "pygments_lexer": "ipython3",
   "version": "3.10.8"
  }
 },
 "nbformat": 4,
 "nbformat_minor": 5
}
