{
 "cells": [
  {
   "cell_type": "raw",
   "id": "e3173b7a-1a22-4dc4-ad2f-5530e5e93d6e",
   "metadata": {},
   "source": [
    "1 question\n",
    "Exception :exception is a error occured at a complie time due to errors during comple time\n",
    "where as syntax error occurs at run time \n"
   ]
  },
  {
   "cell_type": "raw",
   "id": "39502c4e-4794-473f-a4e5-4316e6b6f051",
   "metadata": {},
   "source": [
    "2 question\n",
    "when a exception is not handled it throws an erro"
   ]
  },
  {
   "cell_type": "code",
   "execution_count": 1,
   "id": "59ea3b07-6793-4eda-85cc-3901a59c5835",
   "metadata": {},
   "outputs": [
    {
     "name": "stdin",
     "output_type": "stream",
     "text": [
      "Enter a number:  1\n",
      "Enter another number:  0\n"
     ]
    },
    {
     "ename": "ZeroDivisionError",
     "evalue": "division by zero",
     "output_type": "error",
     "traceback": [
      "\u001b[0;31m---------------------------------------------------------------------------\u001b[0m",
      "\u001b[0;31mZeroDivisionError\u001b[0m                         Traceback (most recent call last)",
      "Cell \u001b[0;32mIn[1], line 4\u001b[0m\n\u001b[1;32m      1\u001b[0m num1 \u001b[38;5;241m=\u001b[39m \u001b[38;5;28mint\u001b[39m(\u001b[38;5;28minput\u001b[39m(\u001b[38;5;124m\"\u001b[39m\u001b[38;5;124mEnter a number: \u001b[39m\u001b[38;5;124m\"\u001b[39m))\n\u001b[1;32m      2\u001b[0m num2 \u001b[38;5;241m=\u001b[39m \u001b[38;5;28mint\u001b[39m(\u001b[38;5;28minput\u001b[39m(\u001b[38;5;124m\"\u001b[39m\u001b[38;5;124mEnter another number: \u001b[39m\u001b[38;5;124m\"\u001b[39m))\n\u001b[0;32m----> 4\u001b[0m result \u001b[38;5;241m=\u001b[39m \u001b[43mnum1\u001b[49m\u001b[43m \u001b[49m\u001b[38;5;241;43m/\u001b[39;49m\u001b[43m \u001b[49m\u001b[43mnum2\u001b[49m\n\u001b[1;32m      5\u001b[0m \u001b[38;5;28mprint\u001b[39m(\u001b[38;5;124m\"\u001b[39m\u001b[38;5;124mResult:\u001b[39m\u001b[38;5;124m\"\u001b[39m, result)\n",
      "\u001b[0;31mZeroDivisionError\u001b[0m: division by zero"
     ]
    }
   ],
   "source": [
    "num1 = int(input(\"Enter a number: \"))\n",
    "num2 = int(input(\"Enter another number: \"))\n",
    "\n",
    "result = num1 / num2\n",
    "print(\"Result:\", result)"
   ]
  },
  {
   "cell_type": "raw",
   "id": "96d14edc-aaa3-4b35-9753-b05f9c89e2c9",
   "metadata": {},
   "source": [
    "3 question\n",
    "catch and handle exception \n",
    "python statement try and expect are staments are used for catch and handle exception"
   ]
  },
  {
   "cell_type": "code",
   "execution_count": 2,
   "id": "f49db4c6-ec7a-4e9e-a3a7-c5e552f44c51",
   "metadata": {},
   "outputs": [
    {
     "name": "stdin",
     "output_type": "stream",
     "text": [
      "Enter a number:  1\n",
      "Enter another number:  0\n"
     ]
    },
    {
     "name": "stdout",
     "output_type": "stream",
     "text": [
      "cant be divided by zero\n"
     ]
    }
   ],
   "source": [
    "num1 = int(input(\"Enter a number: \"))\n",
    "num2 = int(input(\"Enter another number: \"))\n",
    "try:\n",
    "    result = num1 / num2\n",
    "    print(\"Result:\", result)\n",
    "except(ZeroDivisionError):\n",
    "    print(\"cant be divided by zero\")\n",
    "    "
   ]
  },
  {
   "cell_type": "raw",
   "id": "9149f061-7f9c-40ed-9644-80c22fbe6103",
   "metadata": {},
   "source": [
    "4 question\n",
    "try and else:try block is used for the checking for the exception throws the exception to catch block where as else block executes even though there is a exception\n",
    "finally block exectes even there is an exception occures\n",
    "raise is used to de-ifine the user exceptions\n"
   ]
  },
  {
   "cell_type": "code",
   "execution_count": 3,
   "id": "d2673975-f8c5-4df6-8c26-5dbe43d942d4",
   "metadata": {},
   "outputs": [
    {
     "name": "stdin",
     "output_type": "stream",
     "text": [
      "Enter a number:  10\n",
      "Enter another number:  0\n"
     ]
    },
    {
     "name": "stdout",
     "output_type": "stream",
     "text": [
      "ERROR \n"
     ]
    }
   ],
   "source": [
    "num1 = int(input(\"Enter a number: \"))\n",
    "num2 = int(input(\"Enter another number: \"))\n",
    "try:\n",
    "    result = num1 / num2\n",
    "    print(\"Result:\", result)\n",
    "\n",
    "except(ZeroDivisionError):\n",
    "    print(\"ERROR \")\n",
    "else:\n",
    "    print(\"in else block\")"
   ]
  },
  {
   "cell_type": "code",
   "execution_count": 4,
   "id": "2d4f62d0-f213-4ac3-9e99-5f230d761400",
   "metadata": {},
   "outputs": [
    {
     "name": "stdin",
     "output_type": "stream",
     "text": [
      "Enter a number:  1\n",
      "Enter another number:  0\n"
     ]
    },
    {
     "name": "stdout",
     "output_type": "stream",
     "text": [
      "b cant be zero from raise \n"
     ]
    }
   ],
   "source": [
    "num1 = int(input(\"Enter a number: \"))\n",
    "num2 = int(input(\"Enter another number: \"))\n",
    "try:\n",
    "    result = num1 / num2\n",
    "    if num2==0:\n",
    "        raise ZeroDivisonError\n",
    "    else:\n",
    "         print(\"Result:\", result)\n",
    "except(ZeroDivisionError):\n",
    "    print(\"b cant be zero from raise \")\n",
    "else:\n",
    "    print(\"in else block\")"
   ]
  },
  {
   "cell_type": "raw",
   "id": "9ad93496-76c6-4285-873b-d61749cad48e",
   "metadata": {},
   "source": [
    "4 and 5\n",
    "Custom Exceptions are the user difined exceptions\n",
    "we need them for avoid errors in the excucution time"
   ]
  },
  {
   "cell_type": "code",
   "execution_count": 15,
   "id": "ea58b17e-3c15-4957-bcac-64b95a3a20c5",
   "metadata": {},
   "outputs": [],
   "source": [
    "class CustomException(Exception):\n",
    "    pass"
   ]
  },
  {
   "cell_type": "code",
   "execution_count": 16,
   "id": "fc06e76d-ec6a-49b6-8513-3ba9fde90b05",
   "metadata": {},
   "outputs": [
    {
     "name": "stdin",
     "output_type": "stream",
     "text": [
      "enter anu number except zero 0\n"
     ]
    },
    {
     "name": "stdout",
     "output_type": "stream",
     "text": [
      "enter another number not zero\n"
     ]
    }
   ],
   "source": [
    "x=int(input(\"enter anu number except zero\"))\n",
    "try:\n",
    "    if x==0:\n",
    "        raise CustomException(\"not zero\")\n",
    "    else:\n",
    "        print(f\"thr number is {x}\")\n",
    "except CustomException as e:\n",
    "    print(\"enter another number not zero\")\n",
    "    "
   ]
  },
  {
   "cell_type": "code",
   "execution_count": null,
   "id": "7bd71475-c519-4151-8705-be653d5d4da0",
   "metadata": {},
   "outputs": [],
   "source": []
  }
 ],
 "metadata": {
  "kernelspec": {
   "display_name": "Python 3 (ipykernel)",
   "language": "python",
   "name": "python3"
  },
  "language_info": {
   "codemirror_mode": {
    "name": "ipython",
    "version": 3
   },
   "file_extension": ".py",
   "mimetype": "text/x-python",
   "name": "python",
   "nbconvert_exporter": "python",
   "pygments_lexer": "ipython3",
   "version": "3.10.8"
  }
 },
 "nbformat": 4,
 "nbformat_minor": 5
}
