{
 "cells": [
  {
   "cell_type": "raw",
   "id": "dbe348bc-c178-4199-8b87-9ae5246bd874",
   "metadata": {},
   "source": [
    "1 question"
   ]
  },
  {
   "cell_type": "code",
   "execution_count": 1,
   "id": "430c8597-0eec-4d68-96eb-70b7f4ef4ef9",
   "metadata": {},
   "outputs": [],
   "source": [
    "class vechicle:\n",
    "    def __init__(self,name_of_vehicle, max_speed,average_of_vehicle):\n",
    "        self.name_of_vehicle=name_of_vehicle\n",
    "        self.max_speed=max_speed\n",
    "        self.average_of_vehicle=average_of_vehicle\n",
    "        "
   ]
  },
  {
   "cell_type": "code",
   "execution_count": null,
   "id": "54e2aad8-6fd4-4d11-b90b-1044f08bf9e6",
   "metadata": {},
   "outputs": [],
   "source": [
    "2 question"
   ]
  },
  {
   "cell_type": "code",
   "execution_count": 2,
   "id": "f0f3841b-3baf-4a19-894f-7556971d3825",
   "metadata": {},
   "outputs": [],
   "source": [
    "class child_vechicle(vechicle):\n",
    "    def seating_capacity(self,capacity):\n",
    "        return capacity,self.name_of_vehicle"
   ]
  },
  {
   "cell_type": "code",
   "execution_count": 3,
   "id": "5949e6fb-881f-4a27-8010-16e284418456",
   "metadata": {},
   "outputs": [],
   "source": [
    "obj=child_vechicle(\"i20\",120,100)"
   ]
  },
  {
   "cell_type": "code",
   "execution_count": 4,
   "id": "ee398121-e8d8-4cab-8d84-37c446ab4a98",
   "metadata": {},
   "outputs": [
    {
     "data": {
      "text/plain": [
       "(20, 'i20')"
      ]
     },
     "execution_count": 4,
     "metadata": {},
     "output_type": "execute_result"
    }
   ],
   "source": [
    "obj.seating_capacity(20)"
   ]
  },
  {
   "cell_type": "raw",
   "id": "0f7bc6a8-3bdb-432e-8db1-67a6c0bc748a",
   "metadata": {},
   "source": [
    "3 question\n",
    "MULTILEVEL INHERITENCE IS A TYPE OF INHERITANCE WHERE THE CHILD CLASS ACCSESS THE VARIABLES AND METHODS FROM MORE THAN TWO CLASSES AT A TIME"
   ]
  },
  {
   "cell_type": "code",
   "execution_count": 5,
   "id": "cf944205-bc1a-4f2e-bb3a-fdc912a3fa5c",
   "metadata": {},
   "outputs": [
    {
     "name": "stdout",
     "output_type": "stream",
     "text": [
      "parent class1 in parent method1\n",
      "inchild method\n",
      "parent class 2 in parent method2\n"
     ]
    }
   ],
   "source": [
    "class parent_class1:\n",
    "    def parent_method(self):\n",
    "        print(\"parent class1 in parent method1\")\n",
    "class parent_class2:\n",
    "    def parent_method2(self):\n",
    "        print(\"parent class 2 in parent method2\")       \n",
    "class child_class1(parent_class1,parent_class2):\n",
    "    def child_method(self):\n",
    "        print(\"inchild method\")  \n",
    "obj=child_class1()\n",
    "obj.parent_method()\n",
    "obj.child_method()\n",
    "obj.parent_method2()"
   ]
  },
  {
   "cell_type": "raw",
   "id": "6754b612-1376-4306-a70b-eeede5a4af64",
   "metadata": {},
   "source": [
    "4 QUESTION\n",
    "SETTER AND GETTER IS USED TO CHANGE THE VALUES OF PRIVATE ATTRIBUTES OF OBJECTS  IN  A CLASS"
   ]
  },
  {
   "cell_type": "code",
   "execution_count": 17,
   "id": "036c222a-4b80-4f02-8803-0c9a0dedee24",
   "metadata": {},
   "outputs": [],
   "source": [
    "class a:\n",
    "    def __init__(self,a,b):\n",
    "        self.__a=a\n",
    "        self.b=b\n",
    "    @property\n",
    "    def a_value(self):\n",
    "        return  self.__a\n",
    "    @a_value.getter\n",
    "    def a_value_get(self):\n",
    "        return self.__a\n",
    "    @a_value.setter\n",
    "    def a_valueset(self,a):\n",
    "            self.__a=a\n",
    "            return self.__a"
   ]
  },
  {
   "cell_type": "code",
   "execution_count": 18,
   "id": "d48d3da2-08f8-4754-b50e-7e0cd64175cd",
   "metadata": {},
   "outputs": [],
   "source": [
    "obj_a=a(\"hii\",\"bye\")"
   ]
  },
  {
   "cell_type": "code",
   "execution_count": 19,
   "id": "81e3a2d1-af9c-496c-aa74-9d13e4ef8525",
   "metadata": {},
   "outputs": [
    {
     "data": {
      "text/plain": [
       "'hii'"
      ]
     },
     "execution_count": 19,
     "metadata": {},
     "output_type": "execute_result"
    }
   ],
   "source": [
    "obj_a.a_value"
   ]
  },
  {
   "cell_type": "code",
   "execution_count": 20,
   "id": "9c155f6d-533d-48de-97d5-be8606830bb4",
   "metadata": {},
   "outputs": [
    {
     "data": {
      "text/plain": [
       "'bye'"
      ]
     },
     "execution_count": 20,
     "metadata": {},
     "output_type": "execute_result"
    }
   ],
   "source": [
    "obj_a.b"
   ]
  },
  {
   "cell_type": "code",
   "execution_count": 22,
   "id": "a35d5020-c1e8-405c-adc0-52061ba8d5cf",
   "metadata": {},
   "outputs": [],
   "source": [
    "obj_a.a_valueset=52"
   ]
  },
  {
   "cell_type": "code",
   "execution_count": 23,
   "id": "b3240d63-9f9c-4bec-b52b-95e07f2ffd09",
   "metadata": {},
   "outputs": [
    {
     "data": {
      "text/plain": [
       "52"
      ]
     },
     "execution_count": 23,
     "metadata": {},
     "output_type": "execute_result"
    }
   ],
   "source": [
    "obj_a.a_value_get"
   ]
  },
  {
   "cell_type": "raw",
   "id": "a3c8bc9f-5d45-42ac-881f-bee4c3d99953",
   "metadata": {},
   "source": [
    "5 question\n",
    "METHOD OVERRIDING:\n",
    "USED TO OVERWITE THE SAME FUNCTION IN CHILD CLASS WHICH IS IN HERITED BY PARENT CLASS"
   ]
  },
  {
   "cell_type": "code",
   "execution_count": 24,
   "id": "b680db09-7fab-4f6a-9a06-da73eb948b12",
   "metadata": {},
   "outputs": [
    {
     "name": "stdout",
     "output_type": "stream",
     "text": [
      "in child class fun function\n"
     ]
    }
   ],
   "source": [
    "class a:\n",
    "    def fun(self):\n",
    "        print(\"in parent class fun function\")\n",
    "class child(a):\n",
    "    def fun(self):\n",
    "         print(\"in child class fun function\")\n",
    "obj=child()\n",
    "obj.fun()"
   ]
  },
  {
   "cell_type": "code",
   "execution_count": null,
   "id": "b608dc3d-64f4-4330-acea-bff3fa0bf11f",
   "metadata": {},
   "outputs": [],
   "source": []
  }
 ],
 "metadata": {
  "kernelspec": {
   "display_name": "Python 3 (ipykernel)",
   "language": "python",
   "name": "python3"
  },
  "language_info": {
   "codemirror_mode": {
    "name": "ipython",
    "version": 3
   },
   "file_extension": ".py",
   "mimetype": "text/x-python",
   "name": "python",
   "nbconvert_exporter": "python",
   "pygments_lexer": "ipython3",
   "version": "3.10.8"
  }
 },
 "nbformat": 4,
 "nbformat_minor": 5
}
