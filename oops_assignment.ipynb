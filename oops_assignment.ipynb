{
 "cells": [
  {
   "cell_type": "markdown",
   "id": "27fd0933-2d03-4056-8a18-72c975996078",
   "metadata": {},
   "source": [
    "1 question"
   ]
  },
  {
   "cell_type": "markdown",
   "id": "48276b22-451d-4996-9469-2bdcaf3c44f8",
   "metadata": {},
   "source": [
    "CLASS IS A ENTITY OF OBJECT WHERE AS A\n",
    "OBJECT IS A REAL TIME ENTITY"
   ]
  },
  {
   "cell_type": "code",
   "execution_count": 5,
   "id": "2b7a8fae-960c-4578-968a-73dbce41a13e",
   "metadata": {},
   "outputs": [
    {
     "name": "stdout",
     "output_type": "stream",
     "text": [
      "this is inside a class called by a object\n",
      "<__main__.my_class object at 0x7f6398242bf0>\n"
     ]
    }
   ],
   "source": [
    "class my_class:\n",
    "    print(\"this is inside a class called by a object\")\n",
    "object_of_my_class=my_class()\n",
    ";print(object_of_my_class)"
   ]
  },
  {
   "cell_type": "raw",
   "id": "e4169873-2a10-4283-b8a4-10d2aec009db",
   "metadata": {},
   "source": [
    "2 question\n",
    "FOUR PILLARS OF OOPS:\n",
    "    1)ENCAPSULATION:HIDING THE DATA FROM MANIPLICATIONS\n",
    "    2)INHERITANCE:TO SHARE THE PROPERTIR=ES OF CLASS TO ANOTHER CLASS\n",
    "    3)POLYMORPHISM:SAME FUNCTION FOR DIFFERENT OPERATIONS\n",
    "    4)ABSTRACTION:BINDING THE DATA INTO A BLOCK"
   ]
  },
  {
   "cell_type": "raw",
   "id": "49143ac1-7284-4210-87fb-9273470a5b51",
   "metadata": {},
   "source": [
    "3 QUESTION\n",
    "__INIT__() IS A CONSTRUCTOR OF CLASS WHICH IS USED TO CREATE A OBJECT WHENEVE THE OBJECT IS CREATED FOR A CLASS"
   ]
  },
  {
   "cell_type": "code",
   "execution_count": 7,
   "id": "7183dc0a-843b-46ff-952a-e2195026e9be",
   "metadata": {},
   "outputs": [],
   "source": [
    "class my_class:\n",
    "    def __init__(self,obj):\n",
    "        self.obj=obj"
   ]
  },
  {
   "cell_type": "code",
   "execution_count": 8,
   "id": "c52f0078-94da-4817-8d30-70d1937831bc",
   "metadata": {},
   "outputs": [],
   "source": [
    "obj1=my_class(1)"
   ]
  },
  {
   "cell_type": "code",
   "execution_count": 10,
   "id": "ccadb10c-89a2-4f0c-89f8-880ce9651270",
   "metadata": {},
   "outputs": [
    {
     "data": {
      "text/plain": [
       "1"
      ]
     },
     "execution_count": 10,
     "metadata": {},
     "output_type": "execute_result"
    }
   ],
   "source": [
    "obj1.obj"
   ]
  },
  {
   "cell_type": "raw",
   "id": "b41e69a7-9c20-4567-823c-8e255a8c690d",
   "metadata": {},
   "source": [
    "4 question\n",
    "self is used to create instances of variables and class objects used to refer the variables or methos"
   ]
  },
  {
   "cell_type": "code",
   "execution_count": 11,
   "id": "47605f89-6585-4188-acd1-7f7945a6a26f",
   "metadata": {},
   "outputs": [
    {
     "data": {
      "text/plain": [
       "256"
      ]
     },
     "execution_count": 11,
     "metadata": {},
     "output_type": "execute_result"
    }
   ],
   "source": [
    "class my_class:\n",
    "    def __init__(self,obj):\n",
    "        self.obj=obj\n",
    "obj1=my_class(256)\n",
    "obj1.obj"
   ]
  },
  {
   "cell_type": "raw",
   "id": "f3993729-15f9-40ac-a37b-0805ad5398e2",
   "metadata": {},
   "source": [
    "5 question\n",
    "INHERTIANCE: inheritance is used to allow to share and acsess the data among the classes \n",
    "it consists of parent class and child class where parent class shares the data or variables where child class uses that variables\n",
    "there are four types of inheritance\n",
    "   1)single inheritence\n",
    "   2)multiple inheritance\n",
    "   3)multilevel inheritance\n",
    "   4)Hierarchical Inheritance"
   ]
  },
  {
   "cell_type": "code",
   "execution_count": 14,
   "id": "5d9ee385-2db6-4f8a-9ec8-66d6ca23db70",
   "metadata": {},
   "outputs": [],
   "source": [
    "#single inheritance\n",
    "class parent_class:\n",
    "    def parent_method(self):\n",
    "        print(\"parent class in parent method\")\n",
    "class child_class(parent_class):\n",
    "    def child_method(self):\n",
    "        print(\"in child method\")\n",
    "obj=child_class()"
   ]
  },
  {
   "cell_type": "code",
   "execution_count": 16,
   "id": "a963edbf-04e8-4375-afc4-6c12728797a2",
   "metadata": {},
   "outputs": [
    {
     "name": "stdout",
     "output_type": "stream",
     "text": [
      "parent class in parent method\n",
      "in child method\n"
     ]
    }
   ],
   "source": [
    "obj.parent_method()\n",
    "obj.child_method()"
   ]
  },
  {
   "cell_type": "code",
   "execution_count": 18,
   "id": "14d4a77a-919e-4c5b-ac6e-6bd802dcc554",
   "metadata": {},
   "outputs": [
    {
     "name": "stdout",
     "output_type": "stream",
     "text": [
      "parent class in parent method\n",
      "in 1 st child method\n",
      "in 2 nd child method\n"
     ]
    }
   ],
   "source": [
    "#multilevel inheritance\n",
    "class parent_class:\n",
    "    def parent_method(self):\n",
    "        print(\"parent class in parent method\")\n",
    "class child_class1(parent_class):\n",
    "    def child_method1(self):\n",
    "        print(\"in 1 st child method\")\n",
    "class child_class2(child_class1):\n",
    "    def child_method2(self):\n",
    "        print(\"in 2 nd child method\")  \n",
    "obj=child_class2()\n",
    "obj.parent_method()\n",
    "obj.child_method1()\n",
    "obj.child_method2()"
   ]
  },
  {
   "cell_type": "code",
   "execution_count": 20,
   "id": "c94c92f5-2f85-4421-9276-d0ec910a2796",
   "metadata": {},
   "outputs": [
    {
     "name": "stdout",
     "output_type": "stream",
     "text": [
      "parent class in parent method\n",
      "inchild method\n",
      "parent class 2in parent method\n"
     ]
    }
   ],
   "source": [
    "#multiple level\n",
    "class parent_class1:\n",
    "    def parent_method(self):\n",
    "        print(\"parent class in parent method\")\n",
    "class parent_class2:\n",
    "    def parent_method2(self):\n",
    "        print(\"parent class 2in parent method\")       \n",
    "class child_class1(parent_class1,parent_class2):\n",
    "    def child_method(self):\n",
    "        print(\"inchild method\")  \n",
    "obj=child_class1()\n",
    "obj.parent_method()\n",
    "obj.child_method()\n",
    "obj.parent_method2()"
   ]
  },
  {
   "cell_type": "code",
   "execution_count": 21,
   "id": "35d2d5cf-52ef-48f4-808b-30197f82d973",
   "metadata": {},
   "outputs": [
    {
     "name": "stdout",
     "output_type": "stream",
     "text": [
      "in 1 st child method\n",
      "parent class in parent method\n",
      "in 2 nd child method\n",
      "parent class in parent method\n"
     ]
    }
   ],
   "source": [
    "#hybrid\n",
    "class parent_class:\n",
    "    def parent_method(self):\n",
    "        print(\"parent class in parent method\")\n",
    "class child_class1(parent_class):\n",
    "    def child_method1(self):\n",
    "        print(\"in 1 st child method\")\n",
    "class child_class2(parent_class):\n",
    "    def child_method2(self):\n",
    "        print(\"in 2 nd child method\") \n",
    "obj1=child_class1()\n",
    "obj2=child_class2()\n",
    "obj1.child_method1()\n",
    "obj1.parent_method()\n",
    "obj2.child_method2()\n",
    "obj2.parent_method()"
   ]
  },
  {
   "cell_type": "code",
   "execution_count": null,
   "id": "1571846b-ebb3-4a0d-9285-f256bde87dc4",
   "metadata": {},
   "outputs": [],
   "source": []
  }
 ],
 "metadata": {
  "kernelspec": {
   "display_name": "Python 3 (ipykernel)",
   "language": "python",
   "name": "python3"
  },
  "language_info": {
   "codemirror_mode": {
    "name": "ipython",
    "version": 3
   },
   "file_extension": ".py",
   "mimetype": "text/x-python",
   "name": "python",
   "nbconvert_exporter": "python",
   "pygments_lexer": "ipython3",
   "version": "3.10.8"
  }
 },
 "nbformat": 4,
 "nbformat_minor": 5
}
